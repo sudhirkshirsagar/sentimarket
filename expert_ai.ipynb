{
  "nbformat": 4,
  "nbformat_minor": 0,
  "metadata": {
    "colab": {
      "name": "expert ai.ipynb",
      "provenance": [],
      "collapsed_sections": []
    },
    "kernelspec": {
      "name": "python3",
      "display_name": "Python 3"
    },
    "language_info": {
      "name": "python"
    },
    "widgets": {
      "application/vnd.jupyter.widget-state+json": {
        "d1e349e87b1849a195f49292a1de3cc8": {
          "model_module": "@jupyter-widgets/controls",
          "model_name": "HBoxModel",
          "state": {
            "_view_name": "HBoxView",
            "_dom_classes": [],
            "_model_name": "HBoxModel",
            "_view_module": "@jupyter-widgets/controls",
            "_model_module_version": "1.5.0",
            "_view_count": null,
            "_view_module_version": "1.5.0",
            "box_style": "",
            "layout": "IPY_MODEL_17e148a70d1f47e99f39b23f966ee929",
            "_model_module": "@jupyter-widgets/controls",
            "children": [
              "IPY_MODEL_9e4a4ad27b504ef8aa29d64fa90f6fd8",
              "IPY_MODEL_dba0915d350b4c33a8bf31c5c0f98cd4"
            ]
          }
        },
        "17e148a70d1f47e99f39b23f966ee929": {
          "model_module": "@jupyter-widgets/base",
          "model_name": "LayoutModel",
          "state": {
            "_view_name": "LayoutView",
            "grid_template_rows": null,
            "right": null,
            "justify_content": null,
            "_view_module": "@jupyter-widgets/base",
            "overflow": null,
            "_model_module_version": "1.2.0",
            "_view_count": null,
            "flex_flow": null,
            "width": null,
            "min_width": null,
            "border": null,
            "align_items": null,
            "bottom": null,
            "_model_module": "@jupyter-widgets/base",
            "top": null,
            "grid_column": null,
            "overflow_y": null,
            "overflow_x": null,
            "grid_auto_flow": null,
            "grid_area": null,
            "grid_template_columns": null,
            "flex": null,
            "_model_name": "LayoutModel",
            "justify_items": null,
            "grid_row": null,
            "max_height": null,
            "align_content": null,
            "visibility": null,
            "align_self": null,
            "height": null,
            "min_height": null,
            "padding": null,
            "grid_auto_rows": null,
            "grid_gap": null,
            "max_width": null,
            "order": null,
            "_view_module_version": "1.2.0",
            "grid_template_areas": null,
            "object_position": null,
            "object_fit": null,
            "grid_auto_columns": null,
            "margin": null,
            "display": null,
            "left": null
          }
        },
        "9e4a4ad27b504ef8aa29d64fa90f6fd8": {
          "model_module": "@jupyter-widgets/controls",
          "model_name": "FloatProgressModel",
          "state": {
            "_view_name": "ProgressView",
            "style": "IPY_MODEL_1ab496b7f377417b90b6d146552288ce",
            "_dom_classes": [],
            "description": "100%",
            "_model_name": "FloatProgressModel",
            "bar_style": "success",
            "max": 695,
            "_view_module": "@jupyter-widgets/controls",
            "_model_module_version": "1.5.0",
            "value": 695,
            "_view_count": null,
            "_view_module_version": "1.5.0",
            "orientation": "horizontal",
            "min": 0,
            "description_tooltip": null,
            "_model_module": "@jupyter-widgets/controls",
            "layout": "IPY_MODEL_be0b04bdca9f4e11b03984f4e88a937f"
          }
        },
        "dba0915d350b4c33a8bf31c5c0f98cd4": {
          "model_module": "@jupyter-widgets/controls",
          "model_name": "HTMLModel",
          "state": {
            "_view_name": "HTMLView",
            "style": "IPY_MODEL_e8f65fa2f0044d7f858eaa2999921d0b",
            "_dom_classes": [],
            "description": "",
            "_model_name": "HTMLModel",
            "placeholder": "​",
            "_view_module": "@jupyter-widgets/controls",
            "_model_module_version": "1.5.0",
            "value": " 695/695 [12:44&lt;00:00,  1.10s/it]",
            "_view_count": null,
            "_view_module_version": "1.5.0",
            "description_tooltip": null,
            "_model_module": "@jupyter-widgets/controls",
            "layout": "IPY_MODEL_d26dc72aa7064385bb4fcf646a966f64"
          }
        },
        "1ab496b7f377417b90b6d146552288ce": {
          "model_module": "@jupyter-widgets/controls",
          "model_name": "ProgressStyleModel",
          "state": {
            "_view_name": "StyleView",
            "_model_name": "ProgressStyleModel",
            "description_width": "initial",
            "_view_module": "@jupyter-widgets/base",
            "_model_module_version": "1.5.0",
            "_view_count": null,
            "_view_module_version": "1.2.0",
            "bar_color": null,
            "_model_module": "@jupyter-widgets/controls"
          }
        },
        "be0b04bdca9f4e11b03984f4e88a937f": {
          "model_module": "@jupyter-widgets/base",
          "model_name": "LayoutModel",
          "state": {
            "_view_name": "LayoutView",
            "grid_template_rows": null,
            "right": null,
            "justify_content": null,
            "_view_module": "@jupyter-widgets/base",
            "overflow": null,
            "_model_module_version": "1.2.0",
            "_view_count": null,
            "flex_flow": null,
            "width": null,
            "min_width": null,
            "border": null,
            "align_items": null,
            "bottom": null,
            "_model_module": "@jupyter-widgets/base",
            "top": null,
            "grid_column": null,
            "overflow_y": null,
            "overflow_x": null,
            "grid_auto_flow": null,
            "grid_area": null,
            "grid_template_columns": null,
            "flex": null,
            "_model_name": "LayoutModel",
            "justify_items": null,
            "grid_row": null,
            "max_height": null,
            "align_content": null,
            "visibility": null,
            "align_self": null,
            "height": null,
            "min_height": null,
            "padding": null,
            "grid_auto_rows": null,
            "grid_gap": null,
            "max_width": null,
            "order": null,
            "_view_module_version": "1.2.0",
            "grid_template_areas": null,
            "object_position": null,
            "object_fit": null,
            "grid_auto_columns": null,
            "margin": null,
            "display": null,
            "left": null
          }
        },
        "e8f65fa2f0044d7f858eaa2999921d0b": {
          "model_module": "@jupyter-widgets/controls",
          "model_name": "DescriptionStyleModel",
          "state": {
            "_view_name": "StyleView",
            "_model_name": "DescriptionStyleModel",
            "description_width": "",
            "_view_module": "@jupyter-widgets/base",
            "_model_module_version": "1.5.0",
            "_view_count": null,
            "_view_module_version": "1.2.0",
            "_model_module": "@jupyter-widgets/controls"
          }
        },
        "d26dc72aa7064385bb4fcf646a966f64": {
          "model_module": "@jupyter-widgets/base",
          "model_name": "LayoutModel",
          "state": {
            "_view_name": "LayoutView",
            "grid_template_rows": null,
            "right": null,
            "justify_content": null,
            "_view_module": "@jupyter-widgets/base",
            "overflow": null,
            "_model_module_version": "1.2.0",
            "_view_count": null,
            "flex_flow": null,
            "width": null,
            "min_width": null,
            "border": null,
            "align_items": null,
            "bottom": null,
            "_model_module": "@jupyter-widgets/base",
            "top": null,
            "grid_column": null,
            "overflow_y": null,
            "overflow_x": null,
            "grid_auto_flow": null,
            "grid_area": null,
            "grid_template_columns": null,
            "flex": null,
            "_model_name": "LayoutModel",
            "justify_items": null,
            "grid_row": null,
            "max_height": null,
            "align_content": null,
            "visibility": null,
            "align_self": null,
            "height": null,
            "min_height": null,
            "padding": null,
            "grid_auto_rows": null,
            "grid_gap": null,
            "max_width": null,
            "order": null,
            "_view_module_version": "1.2.0",
            "grid_template_areas": null,
            "object_position": null,
            "object_fit": null,
            "grid_auto_columns": null,
            "margin": null,
            "display": null,
            "left": null
          }
        }
      }
    }
  },
  "cells": [
    {
      "cell_type": "code",
      "metadata": {
        "colab": {
          "base_uri": "https://localhost:8080/"
        },
        "id": "gEuCRqZEPelf",
        "outputId": "5e088ac5-30e1-43e6-fa27-2df4047e1901"
      },
      "source": [
        "!pip install expertai-nlapi"
      ],
      "execution_count": 1,
      "outputs": [
        {
          "output_type": "stream",
          "text": [
            "Collecting expertai-nlapi\n",
            "\u001b[?25l  Downloading https://files.pythonhosted.org/packages/6d/64/a204e931486f12e1468d1d3537b79c0cfca958bc37ac8ea610c881edc3dd/expertai_nlapi-2.3.1-py3-none-any.whl (96kB)\n",
            "\r\u001b[K     |███▍                            | 10kB 15.1MB/s eta 0:00:01\r\u001b[K     |██████▊                         | 20kB 19.2MB/s eta 0:00:01\r\u001b[K     |██████████▏                     | 30kB 11.2MB/s eta 0:00:01\r\u001b[K     |█████████████▌                  | 40kB 9.1MB/s eta 0:00:01\r\u001b[K     |█████████████████               | 51kB 5.1MB/s eta 0:00:01\r\u001b[K     |████████████████████▎           | 61kB 5.7MB/s eta 0:00:01\r\u001b[K     |███████████████████████▋        | 71kB 5.9MB/s eta 0:00:01\r\u001b[K     |███████████████████████████     | 81kB 6.4MB/s eta 0:00:01\r\u001b[K     |██████████████████████████████▍ | 92kB 6.4MB/s eta 0:00:01\r\u001b[K     |████████████████████████████████| 102kB 4.0MB/s \n",
            "\u001b[?25hRequirement already satisfied: requests in /usr/local/lib/python3.7/dist-packages (from expertai-nlapi) (2.23.0)\n",
            "Requirement already satisfied: urllib3!=1.25.0,!=1.25.1,<1.26,>=1.21.1 in /usr/local/lib/python3.7/dist-packages (from requests->expertai-nlapi) (1.24.3)\n",
            "Requirement already satisfied: chardet<4,>=3.0.2 in /usr/local/lib/python3.7/dist-packages (from requests->expertai-nlapi) (3.0.4)\n",
            "Requirement already satisfied: certifi>=2017.4.17 in /usr/local/lib/python3.7/dist-packages (from requests->expertai-nlapi) (2021.5.30)\n",
            "Requirement already satisfied: idna<3,>=2.5 in /usr/local/lib/python3.7/dist-packages (from requests->expertai-nlapi) (2.10)\n",
            "Installing collected packages: expertai-nlapi\n",
            "Successfully installed expertai-nlapi-2.3.1\n"
          ],
          "name": "stdout"
        }
      ]
    },
    {
      "cell_type": "code",
      "metadata": {
        "id": "jQB8LgNKPjr0"
      },
      "source": [
        "def expertai_api_setup():\n",
        "    client = ExpertAiClient()\n",
        "    os.environ[\"EAI_USERNAME\"] = 'foo'\n",
        "    os.environ[\"EAI_PASSWORD\"] = 'moo'\n",
        "    return client"
      ],
      "execution_count": 2,
      "outputs": []
    },
    {
      "cell_type": "code",
      "metadata": {
        "id": "JvyCGzzrPlIA"
      },
      "source": [
        "def sentiment_analyzer(client, text, language= 'en'):\n",
        "    output = client.full_analysis(body={\"document\": {\"text\": text}}, params={'language': language} )\n",
        "\n",
        "    output = client.specific_resource_analysis(\n",
        "        body={ \"document\" : {\"text\": text}},\n",
        "        params={'language': language, 'resource': 'sentiment'}\n",
        "    )\n",
        "    return output.sentiment.overall"
      ],
      "execution_count": 3,
      "outputs": []
    },
    {
      "cell_type": "code",
      "metadata": {
        "id": "bATH_ytyPmU6"
      },
      "source": [
        "import pandas as pd\n",
        "import numpy as np\n",
        "from expertai.nlapi.cloud.client import ExpertAiClient"
      ],
      "execution_count": 4,
      "outputs": []
    },
    {
      "cell_type": "code",
      "metadata": {
        "id": "3z21CU7QP5i6"
      },
      "source": [
        "df_tesla = pd.read_csv('utc tesla.csv', header=None)\n",
        "df_tesla.columns = ['created_at', 'id', 'text', 'clean', 'clean_len']"
      ],
      "execution_count": 26,
      "outputs": []
    },
    {
      "cell_type": "code",
      "metadata": {
        "colab": {
          "base_uri": "https://localhost:8080/",
          "height": 419
        },
        "id": "clNc_fcmV6x8",
        "outputId": "83f9fbd7-e9a0-459c-b677-3a578c37b433"
      },
      "source": [
        "df_tesla"
      ],
      "execution_count": 30,
      "outputs": [
        {
          "output_type": "execute_result",
          "data": {
            "text/html": [
              "<div>\n",
              "<style scoped>\n",
              "    .dataframe tbody tr th:only-of-type {\n",
              "        vertical-align: middle;\n",
              "    }\n",
              "\n",
              "    .dataframe tbody tr th {\n",
              "        vertical-align: top;\n",
              "    }\n",
              "\n",
              "    .dataframe thead th {\n",
              "        text-align: right;\n",
              "    }\n",
              "</style>\n",
              "<table border=\"1\" class=\"dataframe\">\n",
              "  <thead>\n",
              "    <tr style=\"text-align: right;\">\n",
              "      <th></th>\n",
              "      <th>created_at</th>\n",
              "      <th>id</th>\n",
              "      <th>text</th>\n",
              "      <th>clean</th>\n",
              "      <th>clean_len</th>\n",
              "    </tr>\n",
              "  </thead>\n",
              "  <tbody>\n",
              "    <tr>\n",
              "      <th>0</th>\n",
              "      <td>2021-06-15T12:39:05.000Z</td>\n",
              "      <td>1.400000e+18</td>\n",
              "      <td>RT @BusinessInsider: Elon Musk's mother Maye i...</td>\n",
              "      <td>Elon Musk's mother Maye is a supermodel who b...</td>\n",
              "      <td>120</td>\n",
              "    </tr>\n",
              "    <tr>\n",
              "      <th>1</th>\n",
              "      <td>2021-06-15T13:36:58.000Z</td>\n",
              "      <td>1.400000e+18</td>\n",
              "      <td>RT @latokens: Earn 415 million STSL crypto tok...</td>\n",
              "      <td>Earn 415 million STSL crypto tokens in Short ...</td>\n",
              "      <td>112</td>\n",
              "    </tr>\n",
              "    <tr>\n",
              "      <th>2</th>\n",
              "      <td>2021-06-15T13:37:00.000Z</td>\n",
              "      <td>1.400000e+18</td>\n",
              "      <td>RT @nytimesbusiness: Elon Musk proved once mor...</td>\n",
              "      <td>Elon Musk proved once more that he can shift ...</td>\n",
              "      <td>223</td>\n",
              "    </tr>\n",
              "    <tr>\n",
              "      <th>3</th>\n",
              "      <td>2021-06-15T13:37:01.000Z</td>\n",
              "      <td>1.400000e+18</td>\n",
              "      <td>$KULR Taglich Brothers new Research Report\\nht...</td>\n",
              "      <td>$KULR Taglich Brothers new Research Report\\n \\...</td>\n",
              "      <td>246</td>\n",
              "    </tr>\n",
              "    <tr>\n",
              "      <th>4</th>\n",
              "      <td>2021-06-15T13:37:02.000Z</td>\n",
              "      <td>1.400000e+18</td>\n",
              "      <td>NEWS: Tesla Granted U.S. Patent Titled 'Advanc...</td>\n",
              "      <td>NEWS: Tesla Granted U.S. Patent Titled 'Advanc...</td>\n",
              "      <td>103</td>\n",
              "    </tr>\n",
              "    <tr>\n",
              "      <th>...</th>\n",
              "      <td>...</td>\n",
              "      <td>...</td>\n",
              "      <td>...</td>\n",
              "      <td>...</td>\n",
              "      <td>...</td>\n",
              "    </tr>\n",
              "    <tr>\n",
              "      <th>690</th>\n",
              "      <td>2021-06-15T19:39:03.000Z</td>\n",
              "      <td>1.400000e+18</td>\n",
              "      <td>@Josue83289056 @tesla_raj @elonmusk Yeah ik. J...</td>\n",
              "      <td>Yeah ik. Just saying that I don't like this t...</td>\n",
              "      <td>58</td>\n",
              "    </tr>\n",
              "    <tr>\n",
              "      <th>691</th>\n",
              "      <td>2021-06-15T19:39:04.000Z</td>\n",
              "      <td>1.400000e+18</td>\n",
              "      <td>RT @WholeMarsBlog: A hardcore smackdown to pol...</td>\n",
              "      <td>A hardcore smackdown to polluting cars. \\n\\nT...</td>\n",
              "      <td>81</td>\n",
              "    </tr>\n",
              "    <tr>\n",
              "      <th>692</th>\n",
              "      <td>2021-06-15T19:39:04.000Z</td>\n",
              "      <td>1.400000e+18</td>\n",
              "      <td>RT @Meganthetrainor: is this like when Azealia...</td>\n",
              "      <td>is this like when Azealia went to Elon Musk h...</td>\n",
              "      <td>52</td>\n",
              "    </tr>\n",
              "    <tr>\n",
              "      <th>693</th>\n",
              "      <td>2021-06-15T19:39:04.000Z</td>\n",
              "      <td>1.400000e+18</td>\n",
              "      <td>RT @sof1azara03: $50 Giveaway || 6hrs\\n\\nRT + ...</td>\n",
              "      <td>$50 Giveaway || 6hrs\\n\\nRT + Join and reply t...</td>\n",
              "      <td>100</td>\n",
              "    </tr>\n",
              "    <tr>\n",
              "      <th>694</th>\n",
              "      <td>2021-06-15T20:37:39.000Z</td>\n",
              "      <td>1.400000e+18</td>\n",
              "      <td>sent 3.000 #doge got back 30.000 $doge ! thank...</td>\n",
              "      <td>sent 3.000 #doge got back 30.000 $doge ! thank...</td>\n",
              "      <td>103</td>\n",
              "    </tr>\n",
              "  </tbody>\n",
              "</table>\n",
              "<p>695 rows × 5 columns</p>\n",
              "</div>"
            ],
            "text/plain": [
              "                   created_at  ...  clean_len\n",
              "0    2021-06-15T12:39:05.000Z  ...        120\n",
              "1    2021-06-15T13:36:58.000Z  ...        112\n",
              "2    2021-06-15T13:37:00.000Z  ...        223\n",
              "3    2021-06-15T13:37:01.000Z  ...        246\n",
              "4    2021-06-15T13:37:02.000Z  ...        103\n",
              "..                        ...  ...        ...\n",
              "690  2021-06-15T19:39:03.000Z  ...         58\n",
              "691  2021-06-15T19:39:04.000Z  ...         81\n",
              "692  2021-06-15T19:39:04.000Z  ...         52\n",
              "693  2021-06-15T19:39:04.000Z  ...        100\n",
              "694  2021-06-15T20:37:39.000Z  ...        103\n",
              "\n",
              "[695 rows x 5 columns]"
            ]
          },
          "metadata": {
            "tags": []
          },
          "execution_count": 30
        }
      ]
    },
    {
      "cell_type": "code",
      "metadata": {
        "colab": {
          "base_uri": "https://localhost:8080/"
        },
        "id": "JBmLNPBdFbt0",
        "outputId": "15f7d8c8-bea7-418b-ca52-50b23a63f575"
      },
      "source": [
        "!pip install yfinance -q"
      ],
      "execution_count": 31,
      "outputs": [
        {
          "output_type": "stream",
          "text": [
            "\u001b[K     |████████████████████████████████| 6.3MB 8.1MB/s \n",
            "\u001b[?25h  Building wheel for yfinance (setup.py) ... \u001b[?25l\u001b[?25hdone\n"
          ],
          "name": "stdout"
        }
      ]
    },
    {
      "cell_type": "code",
      "metadata": {
        "id": "_vDHKTmSFleZ"
      },
      "source": [
        "import yfinance as yf"
      ],
      "execution_count": 32,
      "outputs": []
    },
    {
      "cell_type": "code",
      "metadata": {
        "id": "bJOO-3WiWNoQ"
      },
      "source": [
        "df_tesla['created_at'] = pd.to_datetime(df_tesla['created_at'])"
      ],
      "execution_count": 33,
      "outputs": []
    },
    {
      "cell_type": "code",
      "metadata": {
        "id": "nzzYvYMpWVXL"
      },
      "source": [
        "tsla = yf.Ticker(\"TSLA\")\n",
        "tsla_stock = tsla.history(\n",
        "    start= min(df_tesla['created_at']),\n",
        "    end= max(df_tesla['created_at']),\n",
        "    interval = '1m',\n",
        ").reset_index()"
      ],
      "execution_count": 40,
      "outputs": []
    },
    {
      "cell_type": "code",
      "metadata": {
        "colab": {
          "base_uri": "https://localhost:8080/",
          "height": 419
        },
        "id": "ys6MgUWJWgeK",
        "outputId": "7753704f-b0cc-42ae-c5ff-613a31c1260e"
      },
      "source": [
        "tsla_stock"
      ],
      "execution_count": 41,
      "outputs": [
        {
          "output_type": "execute_result",
          "data": {
            "text/html": [
              "<div>\n",
              "<style scoped>\n",
              "    .dataframe tbody tr th:only-of-type {\n",
              "        vertical-align: middle;\n",
              "    }\n",
              "\n",
              "    .dataframe tbody tr th {\n",
              "        vertical-align: top;\n",
              "    }\n",
              "\n",
              "    .dataframe thead th {\n",
              "        text-align: right;\n",
              "    }\n",
              "</style>\n",
              "<table border=\"1\" class=\"dataframe\">\n",
              "  <thead>\n",
              "    <tr style=\"text-align: right;\">\n",
              "      <th></th>\n",
              "      <th>Datetime</th>\n",
              "      <th>Open</th>\n",
              "      <th>High</th>\n",
              "      <th>Low</th>\n",
              "      <th>Close</th>\n",
              "      <th>Volume</th>\n",
              "      <th>Dividends</th>\n",
              "      <th>Stock Splits</th>\n",
              "    </tr>\n",
              "  </thead>\n",
              "  <tbody>\n",
              "    <tr>\n",
              "      <th>0</th>\n",
              "      <td>2021-06-15 09:30:00-04:00</td>\n",
              "      <td>616.690002</td>\n",
              "      <td>616.789978</td>\n",
              "      <td>614.520020</td>\n",
              "      <td>614.520020</td>\n",
              "      <td>375496</td>\n",
              "      <td>0</td>\n",
              "      <td>0</td>\n",
              "    </tr>\n",
              "    <tr>\n",
              "      <th>1</th>\n",
              "      <td>2021-06-15 09:31:00-04:00</td>\n",
              "      <td>614.549988</td>\n",
              "      <td>614.619995</td>\n",
              "      <td>612.580017</td>\n",
              "      <td>613.679993</td>\n",
              "      <td>138561</td>\n",
              "      <td>0</td>\n",
              "      <td>0</td>\n",
              "    </tr>\n",
              "    <tr>\n",
              "      <th>2</th>\n",
              "      <td>2021-06-15 09:32:00-04:00</td>\n",
              "      <td>613.486023</td>\n",
              "      <td>613.690002</td>\n",
              "      <td>612.359985</td>\n",
              "      <td>612.390015</td>\n",
              "      <td>96786</td>\n",
              "      <td>0</td>\n",
              "      <td>0</td>\n",
              "    </tr>\n",
              "    <tr>\n",
              "      <th>3</th>\n",
              "      <td>2021-06-15 09:33:00-04:00</td>\n",
              "      <td>612.299988</td>\n",
              "      <td>612.530029</td>\n",
              "      <td>612.130005</td>\n",
              "      <td>612.429993</td>\n",
              "      <td>93922</td>\n",
              "      <td>0</td>\n",
              "      <td>0</td>\n",
              "    </tr>\n",
              "    <tr>\n",
              "      <th>4</th>\n",
              "      <td>2021-06-15 09:34:00-04:00</td>\n",
              "      <td>612.000000</td>\n",
              "      <td>613.419983</td>\n",
              "      <td>611.989990</td>\n",
              "      <td>613.315002</td>\n",
              "      <td>100818</td>\n",
              "      <td>0</td>\n",
              "      <td>0</td>\n",
              "    </tr>\n",
              "    <tr>\n",
              "      <th>...</th>\n",
              "      <td>...</td>\n",
              "      <td>...</td>\n",
              "      <td>...</td>\n",
              "      <td>...</td>\n",
              "      <td>...</td>\n",
              "      <td>...</td>\n",
              "      <td>...</td>\n",
              "      <td>...</td>\n",
              "    </tr>\n",
              "    <tr>\n",
              "      <th>385</th>\n",
              "      <td>2021-06-15 15:55:00-04:00</td>\n",
              "      <td>599.275024</td>\n",
              "      <td>600.099976</td>\n",
              "      <td>599.159973</td>\n",
              "      <td>599.330017</td>\n",
              "      <td>91515</td>\n",
              "      <td>0</td>\n",
              "      <td>0</td>\n",
              "    </tr>\n",
              "    <tr>\n",
              "      <th>386</th>\n",
              "      <td>2021-06-15 15:56:00-04:00</td>\n",
              "      <td>599.320007</td>\n",
              "      <td>599.669983</td>\n",
              "      <td>598.969971</td>\n",
              "      <td>599.030029</td>\n",
              "      <td>58569</td>\n",
              "      <td>0</td>\n",
              "      <td>0</td>\n",
              "    </tr>\n",
              "    <tr>\n",
              "      <th>387</th>\n",
              "      <td>2021-06-15 15:57:00-04:00</td>\n",
              "      <td>599.030029</td>\n",
              "      <td>599.369995</td>\n",
              "      <td>598.880127</td>\n",
              "      <td>598.955017</td>\n",
              "      <td>67557</td>\n",
              "      <td>0</td>\n",
              "      <td>0</td>\n",
              "    </tr>\n",
              "    <tr>\n",
              "      <th>388</th>\n",
              "      <td>2021-06-15 15:58:00-04:00</td>\n",
              "      <td>598.909973</td>\n",
              "      <td>599.169983</td>\n",
              "      <td>598.809998</td>\n",
              "      <td>599.090027</td>\n",
              "      <td>67555</td>\n",
              "      <td>0</td>\n",
              "      <td>0</td>\n",
              "    </tr>\n",
              "    <tr>\n",
              "      <th>389</th>\n",
              "      <td>2021-06-15 15:59:00-04:00</td>\n",
              "      <td>599.049988</td>\n",
              "      <td>599.469971</td>\n",
              "      <td>598.320007</td>\n",
              "      <td>599.200012</td>\n",
              "      <td>177566</td>\n",
              "      <td>0</td>\n",
              "      <td>0</td>\n",
              "    </tr>\n",
              "  </tbody>\n",
              "</table>\n",
              "<p>390 rows × 8 columns</p>\n",
              "</div>"
            ],
            "text/plain": [
              "                     Datetime        Open  ...  Dividends  Stock Splits\n",
              "0   2021-06-15 09:30:00-04:00  616.690002  ...          0             0\n",
              "1   2021-06-15 09:31:00-04:00  614.549988  ...          0             0\n",
              "2   2021-06-15 09:32:00-04:00  613.486023  ...          0             0\n",
              "3   2021-06-15 09:33:00-04:00  612.299988  ...          0             0\n",
              "4   2021-06-15 09:34:00-04:00  612.000000  ...          0             0\n",
              "..                        ...         ...  ...        ...           ...\n",
              "385 2021-06-15 15:55:00-04:00  599.275024  ...          0             0\n",
              "386 2021-06-15 15:56:00-04:00  599.320007  ...          0             0\n",
              "387 2021-06-15 15:57:00-04:00  599.030029  ...          0             0\n",
              "388 2021-06-15 15:58:00-04:00  598.909973  ...          0             0\n",
              "389 2021-06-15 15:59:00-04:00  599.049988  ...          0             0\n",
              "\n",
              "[390 rows x 8 columns]"
            ]
          },
          "metadata": {
            "tags": []
          },
          "execution_count": 41
        }
      ]
    },
    {
      "cell_type": "code",
      "metadata": {
        "id": "afNSN3h5RuNw"
      },
      "source": [
        "from tqdm.notebook import tqdm\n",
        "import os"
      ],
      "execution_count": 20,
      "outputs": []
    },
    {
      "cell_type": "code",
      "metadata": {
        "colab": {
          "base_uri": "https://localhost:8080/",
          "height": 66,
          "referenced_widgets": [
            "d1e349e87b1849a195f49292a1de3cc8",
            "17e148a70d1f47e99f39b23f966ee929",
            "9e4a4ad27b504ef8aa29d64fa90f6fd8",
            "dba0915d350b4c33a8bf31c5c0f98cd4",
            "1ab496b7f377417b90b6d146552288ce",
            "be0b04bdca9f4e11b03984f4e88a937f",
            "e8f65fa2f0044d7f858eaa2999921d0b",
            "d26dc72aa7064385bb4fcf646a966f64"
          ]
        },
        "id": "WUcL8757Rn42",
        "outputId": "4f4f47aa-13d2-4ae0-924d-fd21243dc977"
      },
      "source": [
        "client = expertai_api_setup()\n",
        "l = []\n",
        "sentiments = []\n",
        "for text in tqdm(df_tesla['clean']):\n",
        "    if len(text) > 1:\n",
        "        sentiments.append(sentiment_analyzer(client, text))\n",
        "    else:\n",
        "        sentiments.append(0)\n",
        "    l.append(text)"
      ],
      "execution_count": 42,
      "outputs": [
        {
          "output_type": "display_data",
          "data": {
            "application/vnd.jupyter.widget-view+json": {
              "model_id": "d1e349e87b1849a195f49292a1de3cc8",
              "version_minor": 0,
              "version_major": 2
            },
            "text/plain": [
              "HBox(children=(FloatProgress(value=0.0, max=695.0), HTML(value='')))"
            ]
          },
          "metadata": {
            "tags": []
          }
        },
        {
          "output_type": "stream",
          "text": [
            "\n"
          ],
          "name": "stdout"
        }
      ]
    },
    {
      "cell_type": "code",
      "metadata": {
        "id": "pEg7IFJyZD5o"
      },
      "source": [
        "df_exp = pd.DataFrame([sentiments, df_tesla['created_at'][:len(sentiments)]])"
      ],
      "execution_count": 47,
      "outputs": []
    },
    {
      "cell_type": "code",
      "metadata": {
        "id": "_TSCXXw_ZKPL"
      },
      "source": [
        "df_exp_transpose = df_exp.T\n",
        "df_exp_transpose.columns = ['sentiment', 'created_at']\n",
        "df_exp_transpose['created_at'] = pd.to_datetime(df_exp_transpose['created_at'])"
      ],
      "execution_count": 49,
      "outputs": []
    },
    {
      "cell_type": "code",
      "metadata": {
        "colab": {
          "base_uri": "https://localhost:8080/",
          "height": 419
        },
        "id": "UlAZ_0O1ZXV8",
        "outputId": "a9875288-1b63-4f7f-c1b7-c9fcc8c2a1d4"
      },
      "source": [
        "df_exp_transpose"
      ],
      "execution_count": 52,
      "outputs": [
        {
          "output_type": "execute_result",
          "data": {
            "text/html": [
              "<div>\n",
              "<style scoped>\n",
              "    .dataframe tbody tr th:only-of-type {\n",
              "        vertical-align: middle;\n",
              "    }\n",
              "\n",
              "    .dataframe tbody tr th {\n",
              "        vertical-align: top;\n",
              "    }\n",
              "\n",
              "    .dataframe thead th {\n",
              "        text-align: right;\n",
              "    }\n",
              "</style>\n",
              "<table border=\"1\" class=\"dataframe\">\n",
              "  <thead>\n",
              "    <tr style=\"text-align: right;\">\n",
              "      <th></th>\n",
              "      <th>sentiment</th>\n",
              "      <th>created_at</th>\n",
              "    </tr>\n",
              "  </thead>\n",
              "  <tbody>\n",
              "    <tr>\n",
              "      <th>0</th>\n",
              "      <td>0</td>\n",
              "      <td>2021-06-15 12:39:05+00:00</td>\n",
              "    </tr>\n",
              "    <tr>\n",
              "      <th>1</th>\n",
              "      <td>0</td>\n",
              "      <td>2021-06-15 13:36:58+00:00</td>\n",
              "    </tr>\n",
              "    <tr>\n",
              "      <th>2</th>\n",
              "      <td>-26</td>\n",
              "      <td>2021-06-15 13:37:00+00:00</td>\n",
              "    </tr>\n",
              "    <tr>\n",
              "      <th>3</th>\n",
              "      <td>0</td>\n",
              "      <td>2021-06-15 13:37:01+00:00</td>\n",
              "    </tr>\n",
              "    <tr>\n",
              "      <th>4</th>\n",
              "      <td>0</td>\n",
              "      <td>2021-06-15 13:37:02+00:00</td>\n",
              "    </tr>\n",
              "    <tr>\n",
              "      <th>...</th>\n",
              "      <td>...</td>\n",
              "      <td>...</td>\n",
              "    </tr>\n",
              "    <tr>\n",
              "      <th>690</th>\n",
              "      <td>5.4</td>\n",
              "      <td>2021-06-15 19:39:03+00:00</td>\n",
              "    </tr>\n",
              "    <tr>\n",
              "      <th>691</th>\n",
              "      <td>1.79</td>\n",
              "      <td>2021-06-15 19:39:04+00:00</td>\n",
              "    </tr>\n",
              "    <tr>\n",
              "      <th>692</th>\n",
              "      <td>0</td>\n",
              "      <td>2021-06-15 19:39:04+00:00</td>\n",
              "    </tr>\n",
              "    <tr>\n",
              "      <th>693</th>\n",
              "      <td>-10.3</td>\n",
              "      <td>2021-06-15 19:39:04+00:00</td>\n",
              "    </tr>\n",
              "    <tr>\n",
              "      <th>694</th>\n",
              "      <td>25.1</td>\n",
              "      <td>2021-06-15 20:37:39+00:00</td>\n",
              "    </tr>\n",
              "  </tbody>\n",
              "</table>\n",
              "<p>695 rows × 2 columns</p>\n",
              "</div>"
            ],
            "text/plain": [
              "    sentiment                created_at\n",
              "0           0 2021-06-15 12:39:05+00:00\n",
              "1           0 2021-06-15 13:36:58+00:00\n",
              "2         -26 2021-06-15 13:37:00+00:00\n",
              "3           0 2021-06-15 13:37:01+00:00\n",
              "4           0 2021-06-15 13:37:02+00:00\n",
              "..        ...                       ...\n",
              "690       5.4 2021-06-15 19:39:03+00:00\n",
              "691      1.79 2021-06-15 19:39:04+00:00\n",
              "692         0 2021-06-15 19:39:04+00:00\n",
              "693     -10.3 2021-06-15 19:39:04+00:00\n",
              "694      25.1 2021-06-15 20:37:39+00:00\n",
              "\n",
              "[695 rows x 2 columns]"
            ]
          },
          "metadata": {
            "tags": []
          },
          "execution_count": 52
        }
      ]
    },
    {
      "cell_type": "code",
      "metadata": {
        "id": "15O6dr2sWJgo"
      },
      "source": [
        "import matplotlib.pyplot as plt\n",
        "import matplotlib.dates as mdates\n",
        "plt.rcParams[\"figure.figsize\"] = (10,10)"
      ],
      "execution_count": 45,
      "outputs": []
    },
    {
      "cell_type": "code",
      "metadata": {
        "id": "I672KSpZZbPQ"
      },
      "source": [
        "mean_ = np.mean(tsla_stock['Open'])"
      ],
      "execution_count": 51,
      "outputs": []
    },
    {
      "cell_type": "code",
      "metadata": {
        "colab": {
          "base_uri": "https://localhost:8080/",
          "height": 575
        },
        "id": "aWYbLRj7R5nV",
        "outputId": "843e7397-65e6-4438-e943-9d88069cbb8f"
      },
      "source": [
        "plt.gca().xaxis.set_major_formatter(mdates.DateFormatter('%Y-%m-%d-%M'))\n",
        "plt.gca().xaxis.set_major_locator(mdates.MinuteLocator(interval=30))\n",
        "plt.plot(tsla_stock['Datetime'], tsla_stock['Open'] )\n",
        "plt.gcf().autofmt_xdate()"
      ],
      "execution_count": 60,
      "outputs": [
        {
          "output_type": "display_data",
          "data": {
            "image/png": "[encoded data removed]",
            "text/plain": [
              "<Figure size 720x720 with 1 Axes>"
            ]
          },
          "metadata": {
            "tags": [],
            "needs_background": "light"
          }
        }
      ]
    },
    {
      "cell_type": "code",
      "metadata": {
        "colab": {
          "base_uri": "https://localhost:8080/",
          "height": 609
        },
        "id": "gYPCbXl6ZsRk",
        "outputId": "e3ac3f45-8ee0-4bbe-ef62-99bec1f74d6b"
      },
      "source": [
        "plt.plot(sentiments)"
      ],
      "execution_count": 57,
      "outputs": [
        {
          "output_type": "execute_result",
          "data": {
            "text/plain": [
              "[<matplotlib.lines.Line2D at 0x7f0bd161d050>]"
            ]
          },
          "metadata": {
            "tags": []
          },
          "execution_count": 57
        },
        {
          "output_type": "display_data",
          "data": {
            "image/png": "[encoded data removed]",
            "text/plain": [
              "<Figure size 720x720 with 1 Axes>"
            ]
          },
          "metadata": {
            "tags": [],
            "needs_background": "light"
          }
        }
      ]
    }
  ]
}